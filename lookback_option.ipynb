{
  "nbformat": 4,
  "nbformat_minor": 0,
  "metadata": {
    "colab": {
      "provenance": [],
      "authorship_tag": "ABX9TyMObjacT9+ms62xSzjGZ3cD",
      "include_colab_link": true
    },
    "kernelspec": {
      "name": "python3",
      "display_name": "Python 3"
    },
    "language_info": {
      "name": "python"
    }
  },
  "cells": [
    {
      "cell_type": "markdown",
      "metadata": {
        "id": "view-in-github",
        "colab_type": "text"
      },
      "source": [
        "<a href=\"https://colab.research.google.com/github/newmantic/lookback_option/blob/main/lookback_option.ipynb\" target=\"_parent\"><img src=\"https://colab.research.google.com/assets/colab-badge.svg\" alt=\"Open In Colab\"/></a>"
      ]
    },
    {
      "cell_type": "code",
      "execution_count": 1,
      "metadata": {
        "colab": {
          "base_uri": "https://localhost:8080/"
        },
        "id": "1iH1R-SEe5Ea",
        "outputId": "371350f2-733e-4a36-ad4d-015783bbdb55"
      },
      "outputs": [
        {
          "output_type": "stream",
          "name": "stdout",
          "text": [
            "Payoff for Fixed Lookback Call Option: 8.00\n",
            "Payoff for Floating Lookback Put Option: 0.00\n"
          ]
        }
      ],
      "source": [
        "import numpy as np\n",
        "\n",
        "class LookbackOption:\n",
        "    def __init__(self, option_type, strike_price=None, is_call=True):\n",
        "        \"\"\"\n",
        "        Initializes the Lookback Option.\n",
        "\n",
        "        :param option_type: 'fixed' or 'floating'\n",
        "        :param strike_price: The strike price of the option (only for fixed options)\n",
        "        :param is_call: True for Call option, False for Put option\n",
        "        \"\"\"\n",
        "        self.option_type = option_type\n",
        "        self.strike_price = strike_price\n",
        "        self.is_call = is_call\n",
        "\n",
        "    def calculate_payoff(self, price_path):\n",
        "        \"\"\"\n",
        "        Calculates the payoff of the Lookback Option.\n",
        "\n",
        "        :param price_path: A list or array of prices\n",
        "        :return: The payoff amount\n",
        "        \"\"\"\n",
        "        if self.option_type == 'fixed':\n",
        "            return self._fixed_lookback_payoff(price_path)\n",
        "        elif self.option_type == 'floating':\n",
        "            return self._floating_lookback_payoff(price_path)\n",
        "        else:\n",
        "            raise ValueError(\"Invalid option type. Use 'fixed' or 'floating'.\")\n",
        "\n",
        "    def _fixed_lookback_payoff(self, price_path):\n",
        "        \"\"\"\n",
        "        Calculates the payoff for a Fixed Lookback Option.\n",
        "\n",
        "        :param price_path: A list or array of prices\n",
        "        :return: The payoff amount\n",
        "        \"\"\"\n",
        "        if self.is_call:\n",
        "            max_price = np.max(price_path)\n",
        "            return max(max_price - self.strike_price, 0)\n",
        "        else:\n",
        "            min_price = np.min(price_path)\n",
        "            return max(self.strike_price - min_price, 0)\n",
        "\n",
        "    def _floating_lookback_payoff(self, price_path):\n",
        "        \"\"\"\n",
        "        Calculates the payoff for a Floating Lookback Option.\n",
        "\n",
        "        :param price_path: A list or array of prices\n",
        "        :return: The payoff amount\n",
        "        \"\"\"\n",
        "        final_price = price_path[-1]\n",
        "        if self.is_call:\n",
        "            min_price = np.min(price_path)\n",
        "            return max(final_price - min_price, 0)\n",
        "        else:\n",
        "            max_price = np.max(price_path)\n",
        "            return max(max_price - final_price, 0)\n",
        "\n",
        "# Example usage\n",
        "if __name__ == \"__main__\":\n",
        "    # Simulated price path (e.g., daily prices over a period)\n",
        "    price_path = np.array([100, 102, 101, 103, 105, 104, 106, 108, 107, 110])\n",
        "\n",
        "    # Example 1: Fixed Lookback Call Option\n",
        "    option1 = LookbackOption(\n",
        "        option_type='fixed',\n",
        "        strike_price=102,\n",
        "        is_call=True\n",
        "    )\n",
        "    payoff1 = option1.calculate_payoff(price_path)\n",
        "    print(f\"Payoff for Fixed Lookback Call Option: {payoff1:.2f}\")\n",
        "\n",
        "    # Example 2: Floating Lookback Put Option\n",
        "    option2 = LookbackOption(\n",
        "        option_type='floating',\n",
        "        is_call=False\n",
        "    )\n",
        "    payoff2 = option2.calculate_payoff(price_path)\n",
        "    print(f\"Payoff for Floating Lookback Put Option: {payoff2:.2f}\")"
      ]
    }
  ]
}